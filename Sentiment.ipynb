{
  "nbformat": 4,
  "nbformat_minor": 0,
  "metadata": {
    "colab": {
      "name": "Sentiment.ipynb",
      "provenance": [],
      "toc_visible": true,
      "authorship_tag": "ABX9TyM1ExsDm6Am5cBrfpFHToSC",
      "include_colab_link": true
    },
    "kernelspec": {
      "name": "python3",
      "display_name": "Python 3"
    },
    "language_info": {
      "name": "python"
    },
    "widgets": {
      "application/vnd.jupyter.widget-state+json": {
        "07e58d12660847b2961f03226232e7db": {
          "model_module": "@jupyter-widgets/controls",
          "model_name": "HBoxModel",
          "state": {
            "_view_name": "HBoxView",
            "_dom_classes": [],
            "_model_name": "HBoxModel",
            "_view_module": "@jupyter-widgets/controls",
            "_model_module_version": "1.5.0",
            "_view_count": null,
            "_view_module_version": "1.5.0",
            "box_style": "",
            "layout": "IPY_MODEL_90f08d41ee514a6ab0003971c4dab0af",
            "_model_module": "@jupyter-widgets/controls",
            "children": [
              "IPY_MODEL_0e08d446b9bb46fbb318bc03f6666f31",
              "IPY_MODEL_7c7fb843e0064465ad54c2f2f60f0435"
            ]
          }
        },
        "90f08d41ee514a6ab0003971c4dab0af": {
          "model_module": "@jupyter-widgets/base",
          "model_name": "LayoutModel",
          "state": {
            "_view_name": "LayoutView",
            "grid_template_rows": null,
            "right": null,
            "justify_content": null,
            "_view_module": "@jupyter-widgets/base",
            "overflow": null,
            "_model_module_version": "1.2.0",
            "_view_count": null,
            "flex_flow": null,
            "width": null,
            "min_width": null,
            "border": null,
            "align_items": null,
            "bottom": null,
            "_model_module": "@jupyter-widgets/base",
            "top": null,
            "grid_column": null,
            "overflow_y": null,
            "overflow_x": null,
            "grid_auto_flow": null,
            "grid_area": null,
            "grid_template_columns": null,
            "flex": null,
            "_model_name": "LayoutModel",
            "justify_items": null,
            "grid_row": null,
            "max_height": null,
            "align_content": null,
            "visibility": null,
            "align_self": null,
            "height": null,
            "min_height": null,
            "padding": null,
            "grid_auto_rows": null,
            "grid_gap": null,
            "max_width": null,
            "order": null,
            "_view_module_version": "1.2.0",
            "grid_template_areas": null,
            "object_position": null,
            "object_fit": null,
            "grid_auto_columns": null,
            "margin": null,
            "display": null,
            "left": null
          }
        },
        "0e08d446b9bb46fbb318bc03f6666f31": {
          "model_module": "@jupyter-widgets/controls",
          "model_name": "FloatProgressModel",
          "state": {
            "_view_name": "ProgressView",
            "style": "IPY_MODEL_8c6211b88dec4bceb2064563e99bb4e5",
            "_dom_classes": [],
            "description": "Downloading: 100%",
            "_model_name": "FloatProgressModel",
            "bar_style": "success",
            "max": 629,
            "_view_module": "@jupyter-widgets/controls",
            "_model_module_version": "1.5.0",
            "value": 629,
            "_view_count": null,
            "_view_module_version": "1.5.0",
            "orientation": "horizontal",
            "min": 0,
            "description_tooltip": null,
            "_model_module": "@jupyter-widgets/controls",
            "layout": "IPY_MODEL_514819d3db9247fd89a50d1a3d68c9e7"
          }
        },
        "7c7fb843e0064465ad54c2f2f60f0435": {
          "model_module": "@jupyter-widgets/controls",
          "model_name": "HTMLModel",
          "state": {
            "_view_name": "HTMLView",
            "style": "IPY_MODEL_06bf2e5dd4094ded9d959d98ba793205",
            "_dom_classes": [],
            "description": "",
            "_model_name": "HTMLModel",
            "placeholder": "​",
            "_view_module": "@jupyter-widgets/controls",
            "_model_module_version": "1.5.0",
            "value": " 629/629 [00:09&lt;00:00, 65.0B/s]",
            "_view_count": null,
            "_view_module_version": "1.5.0",
            "description_tooltip": null,
            "_model_module": "@jupyter-widgets/controls",
            "layout": "IPY_MODEL_30d8df1f51344cd49f750163554151be"
          }
        },
        "8c6211b88dec4bceb2064563e99bb4e5": {
          "model_module": "@jupyter-widgets/controls",
          "model_name": "ProgressStyleModel",
          "state": {
            "_view_name": "StyleView",
            "_model_name": "ProgressStyleModel",
            "description_width": "initial",
            "_view_module": "@jupyter-widgets/base",
            "_model_module_version": "1.5.0",
            "_view_count": null,
            "_view_module_version": "1.2.0",
            "bar_color": null,
            "_model_module": "@jupyter-widgets/controls"
          }
        },
        "514819d3db9247fd89a50d1a3d68c9e7": {
          "model_module": "@jupyter-widgets/base",
          "model_name": "LayoutModel",
          "state": {
            "_view_name": "LayoutView",
            "grid_template_rows": null,
            "right": null,
            "justify_content": null,
            "_view_module": "@jupyter-widgets/base",
            "overflow": null,
            "_model_module_version": "1.2.0",
            "_view_count": null,
            "flex_flow": null,
            "width": null,
            "min_width": null,
            "border": null,
            "align_items": null,
            "bottom": null,
            "_model_module": "@jupyter-widgets/base",
            "top": null,
            "grid_column": null,
            "overflow_y": null,
            "overflow_x": null,
            "grid_auto_flow": null,
            "grid_area": null,
            "grid_template_columns": null,
            "flex": null,
            "_model_name": "LayoutModel",
            "justify_items": null,
            "grid_row": null,
            "max_height": null,
            "align_content": null,
            "visibility": null,
            "align_self": null,
            "height": null,
            "min_height": null,
            "padding": null,
            "grid_auto_rows": null,
            "grid_gap": null,
            "max_width": null,
            "order": null,
            "_view_module_version": "1.2.0",
            "grid_template_areas": null,
            "object_position": null,
            "object_fit": null,
            "grid_auto_columns": null,
            "margin": null,
            "display": null,
            "left": null
          }
        },
        "06bf2e5dd4094ded9d959d98ba793205": {
          "model_module": "@jupyter-widgets/controls",
          "model_name": "DescriptionStyleModel",
          "state": {
            "_view_name": "StyleView",
            "_model_name": "DescriptionStyleModel",
            "description_width": "",
            "_view_module": "@jupyter-widgets/base",
            "_model_module_version": "1.5.0",
            "_view_count": null,
            "_view_module_version": "1.2.0",
            "_model_module": "@jupyter-widgets/controls"
          }
        },
        "30d8df1f51344cd49f750163554151be": {
          "model_module": "@jupyter-widgets/base",
          "model_name": "LayoutModel",
          "state": {
            "_view_name": "LayoutView",
            "grid_template_rows": null,
            "right": null,
            "justify_content": null,
            "_view_module": "@jupyter-widgets/base",
            "overflow": null,
            "_model_module_version": "1.2.0",
            "_view_count": null,
            "flex_flow": null,
            "width": null,
            "min_width": null,
            "border": null,
            "align_items": null,
            "bottom": null,
            "_model_module": "@jupyter-widgets/base",
            "top": null,
            "grid_column": null,
            "overflow_y": null,
            "overflow_x": null,
            "grid_auto_flow": null,
            "grid_area": null,
            "grid_template_columns": null,
            "flex": null,
            "_model_name": "LayoutModel",
            "justify_items": null,
            "grid_row": null,
            "max_height": null,
            "align_content": null,
            "visibility": null,
            "align_self": null,
            "height": null,
            "min_height": null,
            "padding": null,
            "grid_auto_rows": null,
            "grid_gap": null,
            "max_width": null,
            "order": null,
            "_view_module_version": "1.2.0",
            "grid_template_areas": null,
            "object_position": null,
            "object_fit": null,
            "grid_auto_columns": null,
            "margin": null,
            "display": null,
            "left": null
          }
        },
        "5dc48d16710d47e6a6bcfa9922fbe101": {
          "model_module": "@jupyter-widgets/controls",
          "model_name": "HBoxModel",
          "state": {
            "_view_name": "HBoxView",
            "_dom_classes": [],
            "_model_name": "HBoxModel",
            "_view_module": "@jupyter-widgets/controls",
            "_model_module_version": "1.5.0",
            "_view_count": null,
            "_view_module_version": "1.5.0",
            "box_style": "",
            "layout": "IPY_MODEL_725de4b852be4ea895b5d69541c24899",
            "_model_module": "@jupyter-widgets/controls",
            "children": [
              "IPY_MODEL_3a570b007bd14dfcb6ce187c7c79d6c8",
              "IPY_MODEL_f46acbd222f04b3781c5647f55d04af6"
            ]
          }
        },
        "725de4b852be4ea895b5d69541c24899": {
          "model_module": "@jupyter-widgets/base",
          "model_name": "LayoutModel",
          "state": {
            "_view_name": "LayoutView",
            "grid_template_rows": null,
            "right": null,
            "justify_content": null,
            "_view_module": "@jupyter-widgets/base",
            "overflow": null,
            "_model_module_version": "1.2.0",
            "_view_count": null,
            "flex_flow": null,
            "width": null,
            "min_width": null,
            "border": null,
            "align_items": null,
            "bottom": null,
            "_model_module": "@jupyter-widgets/base",
            "top": null,
            "grid_column": null,
            "overflow_y": null,
            "overflow_x": null,
            "grid_auto_flow": null,
            "grid_area": null,
            "grid_template_columns": null,
            "flex": null,
            "_model_name": "LayoutModel",
            "justify_items": null,
            "grid_row": null,
            "max_height": null,
            "align_content": null,
            "visibility": null,
            "align_self": null,
            "height": null,
            "min_height": null,
            "padding": null,
            "grid_auto_rows": null,
            "grid_gap": null,
            "max_width": null,
            "order": null,
            "_view_module_version": "1.2.0",
            "grid_template_areas": null,
            "object_position": null,
            "object_fit": null,
            "grid_auto_columns": null,
            "margin": null,
            "display": null,
            "left": null
          }
        },
        "3a570b007bd14dfcb6ce187c7c79d6c8": {
          "model_module": "@jupyter-widgets/controls",
          "model_name": "FloatProgressModel",
          "state": {
            "_view_name": "ProgressView",
            "style": "IPY_MODEL_d586914a1d3c497babb5ecf9054478c0",
            "_dom_classes": [],
            "description": "Downloading: 100%",
            "_model_name": "FloatProgressModel",
            "bar_style": "success",
            "max": 267844284,
            "_view_module": "@jupyter-widgets/controls",
            "_model_module_version": "1.5.0",
            "value": 267844284,
            "_view_count": null,
            "_view_module_version": "1.5.0",
            "orientation": "horizontal",
            "min": 0,
            "description_tooltip": null,
            "_model_module": "@jupyter-widgets/controls",
            "layout": "IPY_MODEL_7f10f8bac23344a6863f9a64c63a2f69"
          }
        },
        "f46acbd222f04b3781c5647f55d04af6": {
          "model_module": "@jupyter-widgets/controls",
          "model_name": "HTMLModel",
          "state": {
            "_view_name": "HTMLView",
            "style": "IPY_MODEL_70d85f2f7d4d4dce9b56f68fffbad22c",
            "_dom_classes": [],
            "description": "",
            "_model_name": "HTMLModel",
            "placeholder": "​",
            "_view_module": "@jupyter-widgets/controls",
            "_model_module_version": "1.5.0",
            "value": " 268M/268M [00:09&lt;00:00, 28.7MB/s]",
            "_view_count": null,
            "_view_module_version": "1.5.0",
            "description_tooltip": null,
            "_model_module": "@jupyter-widgets/controls",
            "layout": "IPY_MODEL_d38b84dc4fa344a0b73a88c77848bee1"
          }
        },
        "d586914a1d3c497babb5ecf9054478c0": {
          "model_module": "@jupyter-widgets/controls",
          "model_name": "ProgressStyleModel",
          "state": {
            "_view_name": "StyleView",
            "_model_name": "ProgressStyleModel",
            "description_width": "initial",
            "_view_module": "@jupyter-widgets/base",
            "_model_module_version": "1.5.0",
            "_view_count": null,
            "_view_module_version": "1.2.0",
            "bar_color": null,
            "_model_module": "@jupyter-widgets/controls"
          }
        },
        "7f10f8bac23344a6863f9a64c63a2f69": {
          "model_module": "@jupyter-widgets/base",
          "model_name": "LayoutModel",
          "state": {
            "_view_name": "LayoutView",
            "grid_template_rows": null,
            "right": null,
            "justify_content": null,
            "_view_module": "@jupyter-widgets/base",
            "overflow": null,
            "_model_module_version": "1.2.0",
            "_view_count": null,
            "flex_flow": null,
            "width": null,
            "min_width": null,
            "border": null,
            "align_items": null,
            "bottom": null,
            "_model_module": "@jupyter-widgets/base",
            "top": null,
            "grid_column": null,
            "overflow_y": null,
            "overflow_x": null,
            "grid_auto_flow": null,
            "grid_area": null,
            "grid_template_columns": null,
            "flex": null,
            "_model_name": "LayoutModel",
            "justify_items": null,
            "grid_row": null,
            "max_height": null,
            "align_content": null,
            "visibility": null,
            "align_self": null,
            "height": null,
            "min_height": null,
            "padding": null,
            "grid_auto_rows": null,
            "grid_gap": null,
            "max_width": null,
            "order": null,
            "_view_module_version": "1.2.0",
            "grid_template_areas": null,
            "object_position": null,
            "object_fit": null,
            "grid_auto_columns": null,
            "margin": null,
            "display": null,
            "left": null
          }
        },
        "70d85f2f7d4d4dce9b56f68fffbad22c": {
          "model_module": "@jupyter-widgets/controls",
          "model_name": "DescriptionStyleModel",
          "state": {
            "_view_name": "StyleView",
            "_model_name": "DescriptionStyleModel",
            "description_width": "",
            "_view_module": "@jupyter-widgets/base",
            "_model_module_version": "1.5.0",
            "_view_count": null,
            "_view_module_version": "1.2.0",
            "_model_module": "@jupyter-widgets/controls"
          }
        },
        "d38b84dc4fa344a0b73a88c77848bee1": {
          "model_module": "@jupyter-widgets/base",
          "model_name": "LayoutModel",
          "state": {
            "_view_name": "LayoutView",
            "grid_template_rows": null,
            "right": null,
            "justify_content": null,
            "_view_module": "@jupyter-widgets/base",
            "overflow": null,
            "_model_module_version": "1.2.0",
            "_view_count": null,
            "flex_flow": null,
            "width": null,
            "min_width": null,
            "border": null,
            "align_items": null,
            "bottom": null,
            "_model_module": "@jupyter-widgets/base",
            "top": null,
            "grid_column": null,
            "overflow_y": null,
            "overflow_x": null,
            "grid_auto_flow": null,
            "grid_area": null,
            "grid_template_columns": null,
            "flex": null,
            "_model_name": "LayoutModel",
            "justify_items": null,
            "grid_row": null,
            "max_height": null,
            "align_content": null,
            "visibility": null,
            "align_self": null,
            "height": null,
            "min_height": null,
            "padding": null,
            "grid_auto_rows": null,
            "grid_gap": null,
            "max_width": null,
            "order": null,
            "_view_module_version": "1.2.0",
            "grid_template_areas": null,
            "object_position": null,
            "object_fit": null,
            "grid_auto_columns": null,
            "margin": null,
            "display": null,
            "left": null
          }
        },
        "0a72dc345866435db022518e7742d3b9": {
          "model_module": "@jupyter-widgets/controls",
          "model_name": "HBoxModel",
          "state": {
            "_view_name": "HBoxView",
            "_dom_classes": [],
            "_model_name": "HBoxModel",
            "_view_module": "@jupyter-widgets/controls",
            "_model_module_version": "1.5.0",
            "_view_count": null,
            "_view_module_version": "1.5.0",
            "box_style": "",
            "layout": "IPY_MODEL_f19c979a56824accbd9c2c0f492bf0a8",
            "_model_module": "@jupyter-widgets/controls",
            "children": [
              "IPY_MODEL_b4c2da3440da43ab8a254f7744a743bb",
              "IPY_MODEL_ca533f01ae444377bab7ba298e042236"
            ]
          }
        },
        "f19c979a56824accbd9c2c0f492bf0a8": {
          "model_module": "@jupyter-widgets/base",
          "model_name": "LayoutModel",
          "state": {
            "_view_name": "LayoutView",
            "grid_template_rows": null,
            "right": null,
            "justify_content": null,
            "_view_module": "@jupyter-widgets/base",
            "overflow": null,
            "_model_module_version": "1.2.0",
            "_view_count": null,
            "flex_flow": null,
            "width": null,
            "min_width": null,
            "border": null,
            "align_items": null,
            "bottom": null,
            "_model_module": "@jupyter-widgets/base",
            "top": null,
            "grid_column": null,
            "overflow_y": null,
            "overflow_x": null,
            "grid_auto_flow": null,
            "grid_area": null,
            "grid_template_columns": null,
            "flex": null,
            "_model_name": "LayoutModel",
            "justify_items": null,
            "grid_row": null,
            "max_height": null,
            "align_content": null,
            "visibility": null,
            "align_self": null,
            "height": null,
            "min_height": null,
            "padding": null,
            "grid_auto_rows": null,
            "grid_gap": null,
            "max_width": null,
            "order": null,
            "_view_module_version": "1.2.0",
            "grid_template_areas": null,
            "object_position": null,
            "object_fit": null,
            "grid_auto_columns": null,
            "margin": null,
            "display": null,
            "left": null
          }
        },
        "b4c2da3440da43ab8a254f7744a743bb": {
          "model_module": "@jupyter-widgets/controls",
          "model_name": "FloatProgressModel",
          "state": {
            "_view_name": "ProgressView",
            "style": "IPY_MODEL_46a2158995d743fa95b2e76c7f3fab52",
            "_dom_classes": [],
            "description": "Downloading: 100%",
            "_model_name": "FloatProgressModel",
            "bar_style": "success",
            "max": 231508,
            "_view_module": "@jupyter-widgets/controls",
            "_model_module_version": "1.5.0",
            "value": 231508,
            "_view_count": null,
            "_view_module_version": "1.5.0",
            "orientation": "horizontal",
            "min": 0,
            "description_tooltip": null,
            "_model_module": "@jupyter-widgets/controls",
            "layout": "IPY_MODEL_0b6676081d634f73be7a57d1bf221df4"
          }
        },
        "ca533f01ae444377bab7ba298e042236": {
          "model_module": "@jupyter-widgets/controls",
          "model_name": "HTMLModel",
          "state": {
            "_view_name": "HTMLView",
            "style": "IPY_MODEL_cd525f932dff4d0ea537f27f186a959a",
            "_dom_classes": [],
            "description": "",
            "_model_name": "HTMLModel",
            "placeholder": "​",
            "_view_module": "@jupyter-widgets/controls",
            "_model_module_version": "1.5.0",
            "value": " 232k/232k [00:00&lt;00:00, 436kB/s]",
            "_view_count": null,
            "_view_module_version": "1.5.0",
            "description_tooltip": null,
            "_model_module": "@jupyter-widgets/controls",
            "layout": "IPY_MODEL_abd54657a7fa471dba64563cd8b30636"
          }
        },
        "46a2158995d743fa95b2e76c7f3fab52": {
          "model_module": "@jupyter-widgets/controls",
          "model_name": "ProgressStyleModel",
          "state": {
            "_view_name": "StyleView",
            "_model_name": "ProgressStyleModel",
            "description_width": "initial",
            "_view_module": "@jupyter-widgets/base",
            "_model_module_version": "1.5.0",
            "_view_count": null,
            "_view_module_version": "1.2.0",
            "bar_color": null,
            "_model_module": "@jupyter-widgets/controls"
          }
        },
        "0b6676081d634f73be7a57d1bf221df4": {
          "model_module": "@jupyter-widgets/base",
          "model_name": "LayoutModel",
          "state": {
            "_view_name": "LayoutView",
            "grid_template_rows": null,
            "right": null,
            "justify_content": null,
            "_view_module": "@jupyter-widgets/base",
            "overflow": null,
            "_model_module_version": "1.2.0",
            "_view_count": null,
            "flex_flow": null,
            "width": null,
            "min_width": null,
            "border": null,
            "align_items": null,
            "bottom": null,
            "_model_module": "@jupyter-widgets/base",
            "top": null,
            "grid_column": null,
            "overflow_y": null,
            "overflow_x": null,
            "grid_auto_flow": null,
            "grid_area": null,
            "grid_template_columns": null,
            "flex": null,
            "_model_name": "LayoutModel",
            "justify_items": null,
            "grid_row": null,
            "max_height": null,
            "align_content": null,
            "visibility": null,
            "align_self": null,
            "height": null,
            "min_height": null,
            "padding": null,
            "grid_auto_rows": null,
            "grid_gap": null,
            "max_width": null,
            "order": null,
            "_view_module_version": "1.2.0",
            "grid_template_areas": null,
            "object_position": null,
            "object_fit": null,
            "grid_auto_columns": null,
            "margin": null,
            "display": null,
            "left": null
          }
        },
        "cd525f932dff4d0ea537f27f186a959a": {
          "model_module": "@jupyter-widgets/controls",
          "model_name": "DescriptionStyleModel",
          "state": {
            "_view_name": "StyleView",
            "_model_name": "DescriptionStyleModel",
            "description_width": "",
            "_view_module": "@jupyter-widgets/base",
            "_model_module_version": "1.5.0",
            "_view_count": null,
            "_view_module_version": "1.2.0",
            "_model_module": "@jupyter-widgets/controls"
          }
        },
        "abd54657a7fa471dba64563cd8b30636": {
          "model_module": "@jupyter-widgets/base",
          "model_name": "LayoutModel",
          "state": {
            "_view_name": "LayoutView",
            "grid_template_rows": null,
            "right": null,
            "justify_content": null,
            "_view_module": "@jupyter-widgets/base",
            "overflow": null,
            "_model_module_version": "1.2.0",
            "_view_count": null,
            "flex_flow": null,
            "width": null,
            "min_width": null,
            "border": null,
            "align_items": null,
            "bottom": null,
            "_model_module": "@jupyter-widgets/base",
            "top": null,
            "grid_column": null,
            "overflow_y": null,
            "overflow_x": null,
            "grid_auto_flow": null,
            "grid_area": null,
            "grid_template_columns": null,
            "flex": null,
            "_model_name": "LayoutModel",
            "justify_items": null,
            "grid_row": null,
            "max_height": null,
            "align_content": null,
            "visibility": null,
            "align_self": null,
            "height": null,
            "min_height": null,
            "padding": null,
            "grid_auto_rows": null,
            "grid_gap": null,
            "max_width": null,
            "order": null,
            "_view_module_version": "1.2.0",
            "grid_template_areas": null,
            "object_position": null,
            "object_fit": null,
            "grid_auto_columns": null,
            "margin": null,
            "display": null,
            "left": null
          }
        },
        "15689ab1c7664c46b1d0b820f0c24168": {
          "model_module": "@jupyter-widgets/controls",
          "model_name": "HBoxModel",
          "state": {
            "_view_name": "HBoxView",
            "_dom_classes": [],
            "_model_name": "HBoxModel",
            "_view_module": "@jupyter-widgets/controls",
            "_model_module_version": "1.5.0",
            "_view_count": null,
            "_view_module_version": "1.5.0",
            "box_style": "",
            "layout": "IPY_MODEL_8558a7272ae349379a075f3c2f0afeeb",
            "_model_module": "@jupyter-widgets/controls",
            "children": [
              "IPY_MODEL_94a14740370e4668b343e88f63e53f87",
              "IPY_MODEL_8ed667407e4b496d9f29c3b8c1b346eb"
            ]
          }
        },
        "8558a7272ae349379a075f3c2f0afeeb": {
          "model_module": "@jupyter-widgets/base",
          "model_name": "LayoutModel",
          "state": {
            "_view_name": "LayoutView",
            "grid_template_rows": null,
            "right": null,
            "justify_content": null,
            "_view_module": "@jupyter-widgets/base",
            "overflow": null,
            "_model_module_version": "1.2.0",
            "_view_count": null,
            "flex_flow": null,
            "width": null,
            "min_width": null,
            "border": null,
            "align_items": null,
            "bottom": null,
            "_model_module": "@jupyter-widgets/base",
            "top": null,
            "grid_column": null,
            "overflow_y": null,
            "overflow_x": null,
            "grid_auto_flow": null,
            "grid_area": null,
            "grid_template_columns": null,
            "flex": null,
            "_model_name": "LayoutModel",
            "justify_items": null,
            "grid_row": null,
            "max_height": null,
            "align_content": null,
            "visibility": null,
            "align_self": null,
            "height": null,
            "min_height": null,
            "padding": null,
            "grid_auto_rows": null,
            "grid_gap": null,
            "max_width": null,
            "order": null,
            "_view_module_version": "1.2.0",
            "grid_template_areas": null,
            "object_position": null,
            "object_fit": null,
            "grid_auto_columns": null,
            "margin": null,
            "display": null,
            "left": null
          }
        },
        "94a14740370e4668b343e88f63e53f87": {
          "model_module": "@jupyter-widgets/controls",
          "model_name": "FloatProgressModel",
          "state": {
            "_view_name": "ProgressView",
            "style": "IPY_MODEL_c613d78529064a5ea86a0256c37af19d",
            "_dom_classes": [],
            "description": "Downloading: 100%",
            "_model_name": "FloatProgressModel",
            "bar_style": "success",
            "max": 48,
            "_view_module": "@jupyter-widgets/controls",
            "_model_module_version": "1.5.0",
            "value": 48,
            "_view_count": null,
            "_view_module_version": "1.5.0",
            "orientation": "horizontal",
            "min": 0,
            "description_tooltip": null,
            "_model_module": "@jupyter-widgets/controls",
            "layout": "IPY_MODEL_225bbe0590864e19aa3b7cd3745f5aee"
          }
        },
        "8ed667407e4b496d9f29c3b8c1b346eb": {
          "model_module": "@jupyter-widgets/controls",
          "model_name": "HTMLModel",
          "state": {
            "_view_name": "HTMLView",
            "style": "IPY_MODEL_6ae80a725d454fb09c9ae133f47af6e0",
            "_dom_classes": [],
            "description": "",
            "_model_name": "HTMLModel",
            "placeholder": "​",
            "_view_module": "@jupyter-widgets/controls",
            "_model_module_version": "1.5.0",
            "value": " 48.0/48.0 [00:00&lt;00:00, 556B/s]",
            "_view_count": null,
            "_view_module_version": "1.5.0",
            "description_tooltip": null,
            "_model_module": "@jupyter-widgets/controls",
            "layout": "IPY_MODEL_c4d9664ebe6d4b64a68da1bf4c76c52f"
          }
        },
        "c613d78529064a5ea86a0256c37af19d": {
          "model_module": "@jupyter-widgets/controls",
          "model_name": "ProgressStyleModel",
          "state": {
            "_view_name": "StyleView",
            "_model_name": "ProgressStyleModel",
            "description_width": "initial",
            "_view_module": "@jupyter-widgets/base",
            "_model_module_version": "1.5.0",
            "_view_count": null,
            "_view_module_version": "1.2.0",
            "bar_color": null,
            "_model_module": "@jupyter-widgets/controls"
          }
        },
        "225bbe0590864e19aa3b7cd3745f5aee": {
          "model_module": "@jupyter-widgets/base",
          "model_name": "LayoutModel",
          "state": {
            "_view_name": "LayoutView",
            "grid_template_rows": null,
            "right": null,
            "justify_content": null,
            "_view_module": "@jupyter-widgets/base",
            "overflow": null,
            "_model_module_version": "1.2.0",
            "_view_count": null,
            "flex_flow": null,
            "width": null,
            "min_width": null,
            "border": null,
            "align_items": null,
            "bottom": null,
            "_model_module": "@jupyter-widgets/base",
            "top": null,
            "grid_column": null,
            "overflow_y": null,
            "overflow_x": null,
            "grid_auto_flow": null,
            "grid_area": null,
            "grid_template_columns": null,
            "flex": null,
            "_model_name": "LayoutModel",
            "justify_items": null,
            "grid_row": null,
            "max_height": null,
            "align_content": null,
            "visibility": null,
            "align_self": null,
            "height": null,
            "min_height": null,
            "padding": null,
            "grid_auto_rows": null,
            "grid_gap": null,
            "max_width": null,
            "order": null,
            "_view_module_version": "1.2.0",
            "grid_template_areas": null,
            "object_position": null,
            "object_fit": null,
            "grid_auto_columns": null,
            "margin": null,
            "display": null,
            "left": null
          }
        },
        "6ae80a725d454fb09c9ae133f47af6e0": {
          "model_module": "@jupyter-widgets/controls",
          "model_name": "DescriptionStyleModel",
          "state": {
            "_view_name": "StyleView",
            "_model_name": "DescriptionStyleModel",
            "description_width": "",
            "_view_module": "@jupyter-widgets/base",
            "_model_module_version": "1.5.0",
            "_view_count": null,
            "_view_module_version": "1.2.0",
            "_model_module": "@jupyter-widgets/controls"
          }
        },
        "c4d9664ebe6d4b64a68da1bf4c76c52f": {
          "model_module": "@jupyter-widgets/base",
          "model_name": "LayoutModel",
          "state": {
            "_view_name": "LayoutView",
            "grid_template_rows": null,
            "right": null,
            "justify_content": null,
            "_view_module": "@jupyter-widgets/base",
            "overflow": null,
            "_model_module_version": "1.2.0",
            "_view_count": null,
            "flex_flow": null,
            "width": null,
            "min_width": null,
            "border": null,
            "align_items": null,
            "bottom": null,
            "_model_module": "@jupyter-widgets/base",
            "top": null,
            "grid_column": null,
            "overflow_y": null,
            "overflow_x": null,
            "grid_auto_flow": null,
            "grid_area": null,
            "grid_template_columns": null,
            "flex": null,
            "_model_name": "LayoutModel",
            "justify_items": null,
            "grid_row": null,
            "max_height": null,
            "align_content": null,
            "visibility": null,
            "align_self": null,
            "height": null,
            "min_height": null,
            "padding": null,
            "grid_auto_rows": null,
            "grid_gap": null,
            "max_width": null,
            "order": null,
            "_view_module_version": "1.2.0",
            "grid_template_areas": null,
            "object_position": null,
            "object_fit": null,
            "grid_auto_columns": null,
            "margin": null,
            "display": null,
            "left": null
          }
        }
      }
    }
  },
  "cells": [
    {
      "cell_type": "markdown",
      "metadata": {
        "id": "view-in-github",
        "colab_type": "text"
      },
      "source": [
        "<a href=\"https://colab.research.google.com/github/SocCult-gender-sentiment/Loading-data-/blob/main/Sentiment.ipynb\" target=\"_parent\"><img src=\"https://colab.research.google.com/assets/colab-badge.svg\" alt=\"Open In Colab\"/></a>"
      ]
    },
    {
      "cell_type": "markdown",
      "metadata": {
        "id": "Ip_TT_SFFAtr"
      },
      "source": [
        "# Sentiment analysis\n"
      ]
    },
    {
      "cell_type": "code",
      "metadata": {
        "colab": {
          "base_uri": "https://localhost:8080/"
        },
        "id": "ICTTFqPcATZf",
        "outputId": "71be5729-a8bf-4e49-bba0-4b01c8941019"
      },
      "source": [
        "#Installing transformers\n",
        "!pip install -q transformers"
      ],
      "execution_count": 1,
      "outputs": [
        {
          "output_type": "stream",
          "text": [
            "\u001b[K     |████████████████████████████████| 2.3MB 5.1MB/s \n",
            "\u001b[K     |████████████████████████████████| 901kB 25.8MB/s \n",
            "\u001b[K     |████████████████████████████████| 3.3MB 43.3MB/s \n",
            "\u001b[?25h"
          ],
          "name": "stdout"
        }
      ]
    },
    {
      "cell_type": "code",
      "metadata": {
        "id": "Yc3ifH_ZAkbq"
      },
      "source": [
        "#Importing pipeline\n",
        "from transformers import pipeline"
      ],
      "execution_count": null,
      "outputs": []
    },
    {
      "cell_type": "code",
      "metadata": {
        "colab": {
          "base_uri": "https://localhost:8080/",
          "height": 213,
          "referenced_widgets": [
            "07e58d12660847b2961f03226232e7db",
            "90f08d41ee514a6ab0003971c4dab0af",
            "0e08d446b9bb46fbb318bc03f6666f31",
            "7c7fb843e0064465ad54c2f2f60f0435",
            "8c6211b88dec4bceb2064563e99bb4e5",
            "514819d3db9247fd89a50d1a3d68c9e7",
            "06bf2e5dd4094ded9d959d98ba793205",
            "30d8df1f51344cd49f750163554151be",
            "5dc48d16710d47e6a6bcfa9922fbe101",
            "725de4b852be4ea895b5d69541c24899",
            "3a570b007bd14dfcb6ce187c7c79d6c8",
            "f46acbd222f04b3781c5647f55d04af6",
            "d586914a1d3c497babb5ecf9054478c0",
            "7f10f8bac23344a6863f9a64c63a2f69",
            "70d85f2f7d4d4dce9b56f68fffbad22c",
            "d38b84dc4fa344a0b73a88c77848bee1",
            "0a72dc345866435db022518e7742d3b9",
            "f19c979a56824accbd9c2c0f492bf0a8",
            "b4c2da3440da43ab8a254f7744a743bb",
            "ca533f01ae444377bab7ba298e042236",
            "46a2158995d743fa95b2e76c7f3fab52",
            "0b6676081d634f73be7a57d1bf221df4",
            "cd525f932dff4d0ea537f27f186a959a",
            "abd54657a7fa471dba64563cd8b30636",
            "15689ab1c7664c46b1d0b820f0c24168",
            "8558a7272ae349379a075f3c2f0afeeb",
            "94a14740370e4668b343e88f63e53f87",
            "8ed667407e4b496d9f29c3b8c1b346eb",
            "c613d78529064a5ea86a0256c37af19d",
            "225bbe0590864e19aa3b7cd3745f5aee",
            "6ae80a725d454fb09c9ae133f47af6e0",
            "c4d9664ebe6d4b64a68da1bf4c76c52f"
          ]
        },
        "id": "zCykj212Apfi",
        "outputId": "726af9be-a76e-4446-b426-251bb7ae009b"
      },
      "source": [
        "#importing sentiment function from pipeline\n",
        "senti_pipeline = pipeline(\"sentiment-analysis\")"
      ],
      "execution_count": null,
      "outputs": [
        {
          "output_type": "display_data",
          "data": {
            "application/vnd.jupyter.widget-view+json": {
              "model_id": "07e58d12660847b2961f03226232e7db",
              "version_minor": 0,
              "version_major": 2
            },
            "text/plain": [
              "HBox(children=(FloatProgress(value=0.0, description='Downloading', max=629.0, style=ProgressStyle(description_…"
            ]
          },
          "metadata": {
            "tags": []
          }
        },
        {
          "output_type": "stream",
          "text": [
            "\n"
          ],
          "name": "stdout"
        },
        {
          "output_type": "display_data",
          "data": {
            "application/vnd.jupyter.widget-view+json": {
              "model_id": "5dc48d16710d47e6a6bcfa9922fbe101",
              "version_minor": 0,
              "version_major": 2
            },
            "text/plain": [
              "HBox(children=(FloatProgress(value=0.0, description='Downloading', max=267844284.0, style=ProgressStyle(descri…"
            ]
          },
          "metadata": {
            "tags": []
          }
        },
        {
          "output_type": "stream",
          "text": [
            "\n"
          ],
          "name": "stdout"
        },
        {
          "output_type": "display_data",
          "data": {
            "application/vnd.jupyter.widget-view+json": {
              "model_id": "0a72dc345866435db022518e7742d3b9",
              "version_minor": 0,
              "version_major": 2
            },
            "text/plain": [
              "HBox(children=(FloatProgress(value=0.0, description='Downloading', max=231508.0, style=ProgressStyle(descripti…"
            ]
          },
          "metadata": {
            "tags": []
          }
        },
        {
          "output_type": "stream",
          "text": [
            "\n"
          ],
          "name": "stdout"
        },
        {
          "output_type": "display_data",
          "data": {
            "application/vnd.jupyter.widget-view+json": {
              "model_id": "15689ab1c7664c46b1d0b820f0c24168",
              "version_minor": 0,
              "version_major": 2
            },
            "text/plain": [
              "HBox(children=(FloatProgress(value=0.0, description='Downloading', max=48.0, style=ProgressStyle(description_w…"
            ]
          },
          "metadata": {
            "tags": []
          }
        },
        {
          "output_type": "stream",
          "text": [
            "\n"
          ],
          "name": "stdout"
        }
      ]
    },
    {
      "cell_type": "code",
      "metadata": {
        "colab": {
          "base_uri": "https://localhost:8080/"
        },
        "id": "lYnWshjTA7tX",
        "outputId": "b3320cad-b39f-4058-af7f-622f55c14f3c"
      },
      "source": [
        "#Testing sentiment function on one abstract\n",
        "senti_pipeline(\"Purpose: To compare the survival and clinical performance of implants placed in sites previously augmented with autogenous bone grafts covered by either a platelet-rich fibrin (PRF) membrane (PRF group) or a standard procedure (gold standard) involving coverage of the autogenous bone graft with deproteinised bovine bone mineral and a resorbable collagen membrane (control group). Methods: A total of 27 partially edentulous patients (test n = 14, control n = 13) with indication for staged lateral bone block augmentation and dental implant placement were included. Twenty-four months after crown placement (range: 14-32 months), patients were recalled for a final clinical and radiographic follow-up. Outcome measures were implant survival, implant crown survival, clinical parameters of the implant, peri-implant marginal bone level, marginal bone level of adjacent tooth surfaces, biological and technical complications and patient-related outcome measures. Results: Two implants were lost in the control group (85% survival rate); none were lost in the PRF group (100% survival rate). None of the 26 initially placed implant crowns were lost, but one implant and therefore one implant crown were lost after 20 months. Consequently, the definitive implant crown survival was 92% (95% confidence interval (CI): 73-110%) in the control group and 100% in the PRF group. No statistical difference in implant survival rate (p = 0.13) or implant crown survival was seen between the groups (p = 0.28). The mean marginal bone level at the follow-up was 0.26 mm (95% CI: 0.01-0.50 mm) in the PRF group and 0.68 mm (95% CI: 0.41-0.96 mm) in the control group. The difference between the groups was - 0.43 mm (95% CI: - 0.80 to - 0.05 mm, p = 0.03), which was statistically significant (p = 0.03). Both groups demonstrated similar healthy peri-implant soft tissue values at the final follow-up. Conclusion: Although the current study is based on a small sample of participants, the findings suggest that the methodology of the PRF and the control group approach can both be used for bone augmentation with a similar outcome. A significant, but clinically irrelevant, higher peri-implant marginal bone level was registered in the PRF group than in the control group. Patients in both groups were highly satisfied with the treatment.\", truncation=True)"
      ],
      "execution_count": null,
      "outputs": [
        {
          "output_type": "execute_result",
          "data": {
            "text/plain": [
              "[{'label': 'NEGATIVE', 'score': 0.9977365732192993}]"
            ]
          },
          "metadata": {
            "tags": []
          },
          "execution_count": 63
        }
      ]
    },
    {
      "cell_type": "markdown",
      "metadata": {
        "id": "aQKV7_pXQi44"
      },
      "source": [
        "Importing dataset\n"
      ]
    },
    {
      "cell_type": "code",
      "metadata": {
        "colab": {
          "resources": {
            "http://localhost:8080/nbextensions/google.colab/files.js": {
              "data": "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",
              "ok": true,
              "headers": [
                [
                  "content-type",
                  "application/javascript"
                ]
              ],
              "status": 200,
              "status_text": ""
            }
          },
          "base_uri": "https://localhost:8080/",
          "height": 72
        },
        "id": "JESkfkT_QXzu",
        "outputId": "eb8b276d-34f0-47e6-d3cc-2b26b9639c69"
      },
      "source": [
        "from google.colab import files\n",
        "uploaded = files.upload()"
      ],
      "execution_count": null,
      "outputs": [
        {
          "output_type": "display_data",
          "data": {
            "text/html": [
              "\n",
              "     <input type=\"file\" id=\"files-600a1e8b-2913-4d85-90ae-3b26b447b109\" name=\"files[]\" multiple disabled\n",
              "        style=\"border:none\" />\n",
              "     <output id=\"result-600a1e8b-2913-4d85-90ae-3b26b447b109\">\n",
              "      Upload widget is only available when the cell has been executed in the\n",
              "      current browser session. Please rerun this cell to enable.\n",
              "      </output>\n",
              "      <script src=\"/nbextensions/google.colab/files.js\"></script> "
            ],
            "text/plain": [
              "<IPython.core.display.HTML object>"
            ]
          },
          "metadata": {
            "tags": []
          }
        },
        {
          "output_type": "stream",
          "text": [
            "Saving df_ready_BERT.csv to df_ready_BERT.csv\n"
          ],
          "name": "stdout"
        }
      ]
    },
    {
      "cell_type": "code",
      "metadata": {
        "colab": {
          "base_uri": "https://localhost:8080/",
          "height": 496
        },
        "id": "O1ZpoNiXQY3N",
        "outputId": "3b320625-a633-4abb-a7e6-bc8bc1beaff3"
      },
      "source": [
        "import io\n",
        "import pandas as pd\n",
        "df = pd.read_csv(io.BytesIO(uploaded['df_ready_BERT.csv']))\n",
        "df.head()"
      ],
      "execution_count": null,
      "outputs": [
        {
          "output_type": "execute_result",
          "data": {
            "text/html": [
              "<div>\n",
              "<style scoped>\n",
              "    .dataframe tbody tr th:only-of-type {\n",
              "        vertical-align: middle;\n",
              "    }\n",
              "\n",
              "    .dataframe tbody tr th {\n",
              "        vertical-align: top;\n",
              "    }\n",
              "\n",
              "    .dataframe thead th {\n",
              "        text-align: right;\n",
              "    }\n",
              "</style>\n",
              "<table border=\"1\" class=\"dataframe\">\n",
              "  <thead>\n",
              "    <tr style=\"text-align: right;\">\n",
              "      <th></th>\n",
              "      <th>Last.Author.Name</th>\n",
              "      <th>First.Author.Name</th>\n",
              "      <th>Article.Title</th>\n",
              "      <th>Abstract</th>\n",
              "      <th>Cited.Reference.Count</th>\n",
              "      <th>Times.Cited..WoS.Core</th>\n",
              "      <th>Times.Cited..All.Databases</th>\n",
              "      <th>Since.2013.Usage.Count</th>\n",
              "      <th>Publisher</th>\n",
              "      <th>Publication.Year</th>\n",
              "      <th>WoS.Categories</th>\n",
              "      <th>Research.Areas</th>\n",
              "      <th>First.Author.University</th>\n",
              "      <th>First.Author.Gender</th>\n",
              "      <th>First.Author.Gender.Probability</th>\n",
              "      <th>First.Author.Gender.Count</th>\n",
              "      <th>First.Author.Gender.Country_ID</th>\n",
              "      <th>Last.Author.Gender</th>\n",
              "      <th>Last.Author.Gender.Probability</th>\n",
              "      <th>Last.Author.Gender.Count</th>\n",
              "      <th>Last.Author.Gender.Country_ID</th>\n",
              "      <th>Faculty</th>\n",
              "      <th>wordcount</th>\n",
              "    </tr>\n",
              "  </thead>\n",
              "  <tbody>\n",
              "    <tr>\n",
              "      <th>0</th>\n",
              "      <td>Aba</td>\n",
              "      <td>Eleonora</td>\n",
              "      <td>Single mutation in a novel bacterial LOV prote...</td>\n",
              "      <td>Mr4511 from Methylobacterium radiotolerans is ...</td>\n",
              "      <td>28</td>\n",
              "      <td>5</td>\n",
              "      <td>6</td>\n",
              "      <td>15</td>\n",
              "      <td>ROYAL SOC CHEMISTRY</td>\n",
              "      <td>2019.0</td>\n",
              "      <td>Biochemistry &amp; Molecular Biology; Biophysics; ...</td>\n",
              "      <td>Biochemistry</td>\n",
              "      <td>Aarhus Univ</td>\n",
              "      <td>female</td>\n",
              "      <td>0.99</td>\n",
              "      <td>22031</td>\n",
              "      <td>all</td>\n",
              "      <td>NaN</td>\n",
              "      <td>0.62</td>\n",
              "      <td>1131</td>\n",
              "      <td>all</td>\n",
              "      <td>h</td>\n",
              "      <td>181</td>\n",
              "    </tr>\n",
              "    <tr>\n",
              "      <th>1</th>\n",
              "      <td>Abdu</td>\n",
              "      <td>Abdu</td>\n",
              "      <td>Social interactions, trust and risky alcohol c...</td>\n",
              "      <td>Background: The association of social capital ...</td>\n",
              "      <td>36</td>\n",
              "      <td>5</td>\n",
              "      <td>5</td>\n",
              "      <td>5</td>\n",
              "      <td>BMC</td>\n",
              "      <td>2016.0</td>\n",
              "      <td>Economics; Health Policy &amp; Services</td>\n",
              "      <td>Business</td>\n",
              "      <td>Aarhus Univ</td>\n",
              "      <td>male</td>\n",
              "      <td>0.97</td>\n",
              "      <td>2020</td>\n",
              "      <td>all</td>\n",
              "      <td>male</td>\n",
              "      <td>0.97</td>\n",
              "      <td>2020</td>\n",
              "      <td>all</td>\n",
              "      <td>h</td>\n",
              "      <td>184</td>\n",
              "    </tr>\n",
              "    <tr>\n",
              "      <th>2</th>\n",
              "      <td>Abdu</td>\n",
              "      <td>Birgitte</td>\n",
              "      <td>Alcohol consumption, mental health status, and...</td>\n",
              "      <td>Background: The current level of alcohol consu...</td>\n",
              "      <td>56</td>\n",
              "      <td>0</td>\n",
              "      <td>0</td>\n",
              "      <td>0</td>\n",
              "      <td>OHIO STATE UNIV, COLL SOCIAL WORK</td>\n",
              "      <td>2018.0</td>\n",
              "      <td>Behavioral Sciences</td>\n",
              "      <td>Behavioral Sciences</td>\n",
              "      <td>Aarhus Univ</td>\n",
              "      <td>female</td>\n",
              "      <td>0.98</td>\n",
              "      <td>915</td>\n",
              "      <td>all</td>\n",
              "      <td>male</td>\n",
              "      <td>0.97</td>\n",
              "      <td>2020</td>\n",
              "      <td>all</td>\n",
              "      <td>b</td>\n",
              "      <td>191</td>\n",
              "    </tr>\n",
              "    <tr>\n",
              "      <th>3</th>\n",
              "      <td>Abir</td>\n",
              "      <td>Devin</td>\n",
              "      <td>Expression of phytoglobin affects nitric oxide...</td>\n",
              "      <td>Class 1 plant hemoglobins (phytoglobins) are u...</td>\n",
              "      <td>33</td>\n",
              "      <td>9</td>\n",
              "      <td>9</td>\n",
              "      <td>10</td>\n",
              "      <td>ELSEVIER IRELAND LTD</td>\n",
              "      <td>2017.0</td>\n",
              "      <td>Biochemistry &amp; Molecular Biology; Plant Sciences</td>\n",
              "      <td>Biochemistry</td>\n",
              "      <td>Aarhus Univ</td>\n",
              "      <td>male</td>\n",
              "      <td>0.94</td>\n",
              "      <td>1446</td>\n",
              "      <td>all</td>\n",
              "      <td>female</td>\n",
              "      <td>0.92</td>\n",
              "      <td>2444</td>\n",
              "      <td>all</td>\n",
              "      <td>h</td>\n",
              "      <td>194</td>\n",
              "    </tr>\n",
              "    <tr>\n",
              "      <th>4</th>\n",
              "      <td>Abir</td>\n",
              "      <td>Somaieh</td>\n",
              "      <td>Transcriptional and Metabolic Changes Associat...</td>\n",
              "      <td>To understand how the class 1 phytoglobin is i...</td>\n",
              "      <td>58</td>\n",
              "      <td>0</td>\n",
              "      <td>0</td>\n",
              "      <td>2</td>\n",
              "      <td>MDPI</td>\n",
              "      <td>2020.0</td>\n",
              "      <td>Biochemistry &amp; Molecular Biology; Chemistry, M...</td>\n",
              "      <td>Biochemistry</td>\n",
              "      <td>Aarhus Univ</td>\n",
              "      <td>female</td>\n",
              "      <td>1.00</td>\n",
              "      <td>20</td>\n",
              "      <td>all</td>\n",
              "      <td>female</td>\n",
              "      <td>0.92</td>\n",
              "      <td>2444</td>\n",
              "      <td>all</td>\n",
              "      <td>h</td>\n",
              "      <td>204</td>\n",
              "    </tr>\n",
              "  </tbody>\n",
              "</table>\n",
              "</div>"
            ],
            "text/plain": [
              "  Last.Author.Name First.Author.Name  ... Faculty wordcount\n",
              "0              Aba          Eleonora  ...       h       181\n",
              "1             Abdu              Abdu  ...       h       184\n",
              "2             Abdu          Birgitte  ...       b       191\n",
              "3             Abir             Devin  ...       h       194\n",
              "4             Abir           Somaieh  ...       h       204\n",
              "\n",
              "[5 rows x 23 columns]"
            ]
          },
          "metadata": {
            "tags": []
          },
          "execution_count": 52
        }
      ]
    },
    {
      "cell_type": "code",
      "metadata": {
        "colab": {
          "base_uri": "https://localhost:8080/"
        },
        "id": "6ydc7I1XuqZk",
        "outputId": "8403e8a6-1e84-4eee-ce1d-8f4dbd409766"
      },
      "source": [
        "#Checking variable Abstract to be Dtype = object\n",
        "df.info()"
      ],
      "execution_count": null,
      "outputs": [
        {
          "output_type": "stream",
          "text": [
            "<class 'pandas.core.frame.DataFrame'>\n",
            "RangeIndex: 8134 entries, 0 to 8133\n",
            "Data columns (total 23 columns):\n",
            " #   Column                           Non-Null Count  Dtype  \n",
            "---  ------                           --------------  -----  \n",
            " 0   Last.Author.Name                 8134 non-null   object \n",
            " 1   First.Author.Name                8134 non-null   object \n",
            " 2   Article.Title                    8134 non-null   object \n",
            " 3   Abstract                         8134 non-null   object \n",
            " 4   Cited.Reference.Count            8134 non-null   int64  \n",
            " 5   Times.Cited..WoS.Core            8134 non-null   int64  \n",
            " 6   Times.Cited..All.Databases       8134 non-null   int64  \n",
            " 7   Since.2013.Usage.Count           8134 non-null   int64  \n",
            " 8   Publisher                        8134 non-null   object \n",
            " 9   Publication.Year                 7902 non-null   float64\n",
            " 10  WoS.Categories                   8133 non-null   object \n",
            " 11  Research.Areas                   8133 non-null   object \n",
            " 12  First.Author.University          8134 non-null   object \n",
            " 13  First.Author.Gender              7748 non-null   object \n",
            " 14  First.Author.Gender.Probability  8134 non-null   float64\n",
            " 15  First.Author.Gender.Count        8134 non-null   int64  \n",
            " 16  First.Author.Gender.Country_ID   8134 non-null   object \n",
            " 17  Last.Author.Gender               7867 non-null   object \n",
            " 18  Last.Author.Gender.Probability   8134 non-null   float64\n",
            " 19  Last.Author.Gender.Count         8134 non-null   int64  \n",
            " 20  Last.Author.Gender.Country_ID    8134 non-null   object \n",
            " 21  Faculty                          8133 non-null   object \n",
            " 22  wordcount                        8134 non-null   int64  \n",
            "dtypes: float64(3), int64(7), object(13)\n",
            "memory usage: 1.4+ MB\n"
          ],
          "name": "stdout"
        }
      ]
    },
    {
      "cell_type": "code",
      "metadata": {
        "id": "P7vhLyLSBJ9_"
      },
      "source": [
        "#Removing numbers in abstract\n",
        "df['Abstract'] = df['Abstract'].str.replace('[0-9]', '')\n"
      ],
      "execution_count": null,
      "outputs": []
    },
    {
      "cell_type": "code",
      "metadata": {
        "colab": {
          "base_uri": "https://localhost:8080/",
          "height": 164
        },
        "id": "fj7qIZXjBW5G",
        "outputId": "b09b3112-9682-4fe1-c00b-036e39ce317f"
      },
      "source": [
        "#checking if nubers are removed\n",
        "df.head()"
      ],
      "execution_count": 2,
      "outputs": [
        {
          "output_type": "error",
          "ename": "NameError",
          "evalue": "ignored",
          "traceback": [
            "\u001b[0;31m---------------------------------------------------------------------------\u001b[0m",
            "\u001b[0;31mNameError\u001b[0m                                 Traceback (most recent call last)",
            "\u001b[0;32m<ipython-input-2-c42a15b2c7cf>\u001b[0m in \u001b[0;36m<module>\u001b[0;34m()\u001b[0m\n\u001b[0;32m----> 1\u001b[0;31m \u001b[0mdf\u001b[0m\u001b[0;34m.\u001b[0m\u001b[0mhead\u001b[0m\u001b[0;34m(\u001b[0m\u001b[0;34m)\u001b[0m\u001b[0;34m\u001b[0m\u001b[0;34m\u001b[0m\u001b[0m\n\u001b[0m",
            "\u001b[0;31mNameError\u001b[0m: name 'df' is not defined"
          ]
        }
      ]
    },
    {
      "cell_type": "code",
      "metadata": {
        "colab": {
          "base_uri": "https://localhost:8080/"
        },
        "id": "4yCuOH02uBm8",
        "outputId": "b6212325-9bba-448e-d052-1453025fdcc3"
      },
      "source": [
        "#making sure Abstract is object still\n",
        "df['Abstract'].dtypes"
      ],
      "execution_count": null,
      "outputs": [
        {
          "output_type": "execute_result",
          "data": {
            "text/plain": [
              "dtype('O')"
            ]
          },
          "metadata": {
            "tags": []
          },
          "execution_count": 45
        }
      ]
    },
    {
      "cell_type": "markdown",
      "metadata": {
        "id": "6v9P1X4cfODf"
      },
      "source": [
        "#Sentiment on data\n",
        "\n",
        "\n",
        "\n",
        "*   we make two collumns \n",
        "\n",
        "1.   Label = sentiment (positive or negative)\n",
        "2.   Score = model confidence in label\n",
        "\n",
        "\n",
        "\n"
      ]
    },
    {
      "cell_type": "code",
      "metadata": {
        "id": "qcSN27o_LiDJ"
      },
      "source": [
        "df = (\n",
        "    df\n",
        "    .assign(sentiment = lambda x: x['Abstract'].apply(lambda s: senti_pipeline(s, truncation=True)))\n",
        "    .assign(\n",
        "         label = lambda x: x['sentiment'].apply(lambda s: (s[0]['label'])),\n",
        "         score = lambda x: x['sentiment'].apply(lambda s: (s[0]['score']))\n",
        "    )\n",
        ")"
      ],
      "execution_count": null,
      "outputs": []
    },
    {
      "cell_type": "code",
      "metadata": {
        "colab": {
          "base_uri": "https://localhost:8080/",
          "height": 496
        },
        "id": "78IfKEj3cd0X",
        "outputId": "afc796cc-f00c-4528-8f62-faf8fe472121"
      },
      "source": [
        "#checking the added variables\n",
        "df.head()"
      ],
      "execution_count": null,
      "outputs": [
        {
          "output_type": "execute_result",
          "data": {
            "text/html": [
              "<div>\n",
              "<style scoped>\n",
              "    .dataframe tbody tr th:only-of-type {\n",
              "        vertical-align: middle;\n",
              "    }\n",
              "\n",
              "    .dataframe tbody tr th {\n",
              "        vertical-align: top;\n",
              "    }\n",
              "\n",
              "    .dataframe thead th {\n",
              "        text-align: right;\n",
              "    }\n",
              "</style>\n",
              "<table border=\"1\" class=\"dataframe\">\n",
              "  <thead>\n",
              "    <tr style=\"text-align: right;\">\n",
              "      <th></th>\n",
              "      <th>Last.Author.Name</th>\n",
              "      <th>First.Author.Name</th>\n",
              "      <th>Article.Title</th>\n",
              "      <th>Abstract</th>\n",
              "      <th>Cited.Reference.Count</th>\n",
              "      <th>Times.Cited..WoS.Core</th>\n",
              "      <th>Times.Cited..All.Databases</th>\n",
              "      <th>Since.2013.Usage.Count</th>\n",
              "      <th>Publisher</th>\n",
              "      <th>Publication.Year</th>\n",
              "      <th>WoS.Categories</th>\n",
              "      <th>Research.Areas</th>\n",
              "      <th>First.Author.University</th>\n",
              "      <th>First.Author.Gender</th>\n",
              "      <th>First.Author.Gender.Probability</th>\n",
              "      <th>First.Author.Gender.Count</th>\n",
              "      <th>First.Author.Gender.Country_ID</th>\n",
              "      <th>Last.Author.Gender</th>\n",
              "      <th>Last.Author.Gender.Probability</th>\n",
              "      <th>Last.Author.Gender.Count</th>\n",
              "      <th>Last.Author.Gender.Country_ID</th>\n",
              "      <th>Faculty</th>\n",
              "      <th>wordcount</th>\n",
              "      <th>AbstractLen</th>\n",
              "      <th>sentiment</th>\n",
              "      <th>label</th>\n",
              "      <th>score</th>\n",
              "    </tr>\n",
              "  </thead>\n",
              "  <tbody>\n",
              "    <tr>\n",
              "      <th>0</th>\n",
              "      <td>Aba</td>\n",
              "      <td>Eleonora</td>\n",
              "      <td>Single mutation in a novel bacterial LOV prote...</td>\n",
              "      <td>Mr from Methylobacterium radiotolerans is a  a...</td>\n",
              "      <td>28</td>\n",
              "      <td>5</td>\n",
              "      <td>6</td>\n",
              "      <td>15</td>\n",
              "      <td>ROYAL SOC CHEMISTRY</td>\n",
              "      <td>2019.0</td>\n",
              "      <td>Biochemistry &amp; Molecular Biology; Biophysics; ...</td>\n",
              "      <td>Biochemistry</td>\n",
              "      <td>Aarhus Univ</td>\n",
              "      <td>female</td>\n",
              "      <td>0.99</td>\n",
              "      <td>22031</td>\n",
              "      <td>all</td>\n",
              "      <td>NaN</td>\n",
              "      <td>0.62</td>\n",
              "      <td>1131</td>\n",
              "      <td>all</td>\n",
              "      <td>h</td>\n",
              "      <td>181</td>\n",
              "      <td>1140</td>\n",
              "      <td>[{'label': 'POSITIVE', 'score': 0.751524865627...</td>\n",
              "      <td>POSITIVE</td>\n",
              "      <td>0.751525</td>\n",
              "    </tr>\n",
              "    <tr>\n",
              "      <th>1</th>\n",
              "      <td>Abdu</td>\n",
              "      <td>Abdu</td>\n",
              "      <td>Social interactions, trust and risky alcohol c...</td>\n",
              "      <td>Background: The association of social capital ...</td>\n",
              "      <td>36</td>\n",
              "      <td>5</td>\n",
              "      <td>5</td>\n",
              "      <td>5</td>\n",
              "      <td>BMC</td>\n",
              "      <td>2016.0</td>\n",
              "      <td>Economics; Health Policy &amp; Services</td>\n",
              "      <td>Business</td>\n",
              "      <td>Aarhus Univ</td>\n",
              "      <td>male</td>\n",
              "      <td>0.97</td>\n",
              "      <td>2020</td>\n",
              "      <td>all</td>\n",
              "      <td>male</td>\n",
              "      <td>0.97</td>\n",
              "      <td>2020</td>\n",
              "      <td>all</td>\n",
              "      <td>h</td>\n",
              "      <td>184</td>\n",
              "      <td>1242</td>\n",
              "      <td>[{'label': 'POSITIVE', 'score': 0.963885486125...</td>\n",
              "      <td>POSITIVE</td>\n",
              "      <td>0.963885</td>\n",
              "    </tr>\n",
              "    <tr>\n",
              "      <th>2</th>\n",
              "      <td>Abdu</td>\n",
              "      <td>Birgitte</td>\n",
              "      <td>Alcohol consumption, mental health status, and...</td>\n",
              "      <td>Background: The current level of alcohol consu...</td>\n",
              "      <td>56</td>\n",
              "      <td>0</td>\n",
              "      <td>0</td>\n",
              "      <td>0</td>\n",
              "      <td>OHIO STATE UNIV, COLL SOCIAL WORK</td>\n",
              "      <td>2018.0</td>\n",
              "      <td>Behavioral Sciences</td>\n",
              "      <td>Behavioral Sciences</td>\n",
              "      <td>Aarhus Univ</td>\n",
              "      <td>female</td>\n",
              "      <td>0.98</td>\n",
              "      <td>915</td>\n",
              "      <td>all</td>\n",
              "      <td>male</td>\n",
              "      <td>0.97</td>\n",
              "      <td>2020</td>\n",
              "      <td>all</td>\n",
              "      <td>b</td>\n",
              "      <td>191</td>\n",
              "      <td>1318</td>\n",
              "      <td>[{'label': 'NEGATIVE', 'score': 0.990993142127...</td>\n",
              "      <td>NEGATIVE</td>\n",
              "      <td>0.990993</td>\n",
              "    </tr>\n",
              "    <tr>\n",
              "      <th>3</th>\n",
              "      <td>Abir</td>\n",
              "      <td>Devin</td>\n",
              "      <td>Expression of phytoglobin affects nitric oxide...</td>\n",
              "      <td>Class  plant hemoglobins (phytoglobins) are up...</td>\n",
              "      <td>33</td>\n",
              "      <td>9</td>\n",
              "      <td>9</td>\n",
              "      <td>10</td>\n",
              "      <td>ELSEVIER IRELAND LTD</td>\n",
              "      <td>2017.0</td>\n",
              "      <td>Biochemistry &amp; Molecular Biology; Plant Sciences</td>\n",
              "      <td>Biochemistry</td>\n",
              "      <td>Aarhus Univ</td>\n",
              "      <td>male</td>\n",
              "      <td>0.94</td>\n",
              "      <td>1446</td>\n",
              "      <td>all</td>\n",
              "      <td>female</td>\n",
              "      <td>0.92</td>\n",
              "      <td>2444</td>\n",
              "      <td>all</td>\n",
              "      <td>h</td>\n",
              "      <td>194</td>\n",
              "      <td>1338</td>\n",
              "      <td>[{'label': 'NEGATIVE', 'score': 0.995419502258...</td>\n",
              "      <td>NEGATIVE</td>\n",
              "      <td>0.995420</td>\n",
              "    </tr>\n",
              "    <tr>\n",
              "      <th>4</th>\n",
              "      <td>Abir</td>\n",
              "      <td>Somaieh</td>\n",
              "      <td>Transcriptional and Metabolic Changes Associat...</td>\n",
              "      <td>To understand how the class  phytoglobin is in...</td>\n",
              "      <td>58</td>\n",
              "      <td>0</td>\n",
              "      <td>0</td>\n",
              "      <td>2</td>\n",
              "      <td>MDPI</td>\n",
              "      <td>2020.0</td>\n",
              "      <td>Biochemistry &amp; Molecular Biology; Chemistry, M...</td>\n",
              "      <td>Biochemistry</td>\n",
              "      <td>Aarhus Univ</td>\n",
              "      <td>female</td>\n",
              "      <td>1.00</td>\n",
              "      <td>20</td>\n",
              "      <td>all</td>\n",
              "      <td>female</td>\n",
              "      <td>0.92</td>\n",
              "      <td>2444</td>\n",
              "      <td>all</td>\n",
              "      <td>h</td>\n",
              "      <td>204</td>\n",
              "      <td>1351</td>\n",
              "      <td>[{'label': 'NEGATIVE', 'score': 0.995454311370...</td>\n",
              "      <td>NEGATIVE</td>\n",
              "      <td>0.995454</td>\n",
              "    </tr>\n",
              "  </tbody>\n",
              "</table>\n",
              "</div>"
            ],
            "text/plain": [
              "  Last.Author.Name First.Author.Name  ...     label     score\n",
              "0              Aba          Eleonora  ...  POSITIVE  0.751525\n",
              "1             Abdu              Abdu  ...  POSITIVE  0.963885\n",
              "2             Abdu          Birgitte  ...  NEGATIVE  0.990993\n",
              "3             Abir             Devin  ...  NEGATIVE  0.995420\n",
              "4             Abir           Somaieh  ...  NEGATIVE  0.995454\n",
              "\n",
              "[5 rows x 27 columns]"
            ]
          },
          "metadata": {
            "tags": []
          },
          "execution_count": 72
        }
      ]
    },
    {
      "cell_type": "code",
      "metadata": {
        "id": "9mQiPgehdM3G"
      },
      "source": [
        "#write csv file for analysis\n",
        "df.to_csv(\"dfsentiment.csv\")"
      ],
      "execution_count": null,
      "outputs": []
    }
  ]
}